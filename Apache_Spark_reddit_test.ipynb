{
 "cells": [
  {
   "cell_type": "code",
   "execution_count": 1,
   "metadata": {},
   "outputs": [],
   "source": [
    "from pyspark.sql import SparkSession, SQLContext \n",
    "from pyspark.sql.functions import lower\n",
    "from operator import add\n",
    "import re\n",
    "from collections import OrderedDict\n",
    "from operator import itemgetter \n",
    "import itertools\n",
    "import json\n",
    "\n",
    "import pyspark.sql.functions as f  \n",
    "\n",
    "spark_session = SparkSession\\\n",
    "        .builder\\\n",
    "        .master(\"spark://192.168.2.87:7077\") \\\n",
    "        .appName(\"blameyben_lecture1_simple_example\")\\\n",
    "        .config(\"spark.dynamicAllocation.enabled\", True)\\\n",
    "        .config(\"spark.shuffle.service.enabled\", True)\\\n",
    "        .config(\"spark.dynamicAllocation.executorIdleTimeout\",\"30s\")\\\n",
    "        .config(\"spark.executor.cores\",4)\\\n",
    "        .getOrCreate()\n",
    "\n",
    "spark_context = spark_session.sparkContext #added\n",
    "sqlContext = SQLContext(spark_context)\n",
    "\n"
   ]
  },
  {
   "cell_type": "code",
   "execution_count": 2,
   "metadata": {},
   "outputs": [],
   "source": [
    "from pyspark.sql.types import *\n",
    "schema = StructType([])\n",
    "\n"
   ]
  },
  {
   "cell_type": "code",
   "execution_count": 3,
   "metadata": {},
   "outputs": [
    {
     "name": "stdout",
     "output_type": "stream",
     "text": [
      "Time elapsed:  346.49747060937807\n"
     ]
    }
   ],
   "source": [
    "import timeit\n",
    "start_time = timeit.default_timer()\n",
    "\n",
    "#file = open('testfiles/sample_data.json')\n",
    "file = open('testfiles/sample_data-Copy1.json')\n",
    "\n",
    "content = file.read()\n",
    "array = content.split('\\n')\n",
    "\n",
    "file.close()\n",
    "    \n",
    "df = sqlContext.createDataFrame(spark_context.emptyRDD(), schema)\n",
    "\n",
    "for comment in array:\n",
    "    \n",
    "    rddjson = spark_context.parallelize([comment])  \n",
    "    current_df = sqlContext.read.json(rddjson)     \n",
    "    columns_to_drop = ['author_cakeday','id', 'id_copy']\n",
    "    if 'author_cakeday' in current_df.columns:\n",
    "        current_df = current_df.drop('author_cakeday')  \n",
    "    if 'permalink' in current_df.columns:\n",
    "        current_df = current_df.drop('permalink')  \n",
    "    current_df = current_df.drop('author_flair_css_class','author_flair_text','can_gild','distinguished','edited','id','is_submitter','link_id','parent_id','retrieved_on','stickied','subreddit_id')\n",
    "  \n",
    "    count = df.count()\n",
    "    \n",
    "    if count == 0:\n",
    "        df = current_df\n",
    "    else:\n",
    "        df = df.union(current_df)\n",
    "\n",
    "\n",
    "elapsed = timeit.default_timer() - start_time\n",
    "\n",
    "#df.show()\n",
    "\n",
    "print(\"Time elapsed: \",elapsed) \n",
    "    "
   ]
  },
  {
   "cell_type": "code",
   "execution_count": 4,
   "metadata": {
    "scrolled": false
   },
   "outputs": [
    {
     "name": "stdout",
     "output_type": "stream",
     "text": [
      "+-------------+-----+\n",
      "|    subreddit|count|\n",
      "+-------------+-----+\n",
      "|    AskReddit|    5|\n",
      "|          CFB|    5|\n",
      "|   CrazyIdeas|    3|\n",
      "|      Android|    2|\n",
      "|relationships|    2|\n",
      "|       gaming|    2|\n",
      "|       hockey|    2|\n",
      "|    2007scape|    2|\n",
      "|   The_Donald|    2|\n",
      "|  hearthstone|    2|\n",
      "+-------------+-----+\n",
      "only showing top 10 rows\n",
      "\n",
      "Time elapsed:  19.048326823860407\n"
     ]
    }
   ],
   "source": [
    "start_time = timeit.default_timer()\n",
    "\n",
    "#df.select(\"author\").show()\n",
    "df.groupBy('subreddit').count().sort(\"count\", ascending = False).show(10)\n",
    "\n",
    "elapsed = timeit.default_timer() - start_time\n",
    "\n",
    "print(\"Time elapsed: \",elapsed)"
   ]
  },
  {
   "cell_type": "code",
   "execution_count": 5,
   "metadata": {},
   "outputs": [
    {
     "name": "stdout",
     "output_type": "stream",
     "text": [
      "+------------------+--------------------+----------------+-----------+------+-----+------------------+---------+\n",
      "|            author|                body|controversiality|created_utc|gilded|score|         subreddit|wordCount|\n",
      "+------------------+--------------------+----------------+-----------+------+-----+------------------+---------+\n",
      "|          Dethcola|            A quarry|               0| 1506816000|     0|    3|          sandiego|        2|\n",
      "|        PennyBotV2|[Salutations! I'm...|               0| 1506816000|     0|    3|              RWBY|        9|\n",
      "|       Sir_Firebum|I got into baseba...|               0| 1506816000|     0|    2|          baseball|       27|\n",
      "|         deanzynut|        FUCKING TORY|               0| 1506816000|     0|   18|         2007scape|        2|\n",
      "|   OfullOstomacheO|I see a water dra...|               0| 1506816000|     0|    1| mildlyinteresting|        6|\n",
      "|           PlusOn3|Wait. The Michiga...|               0| 1506816000|     0|    1|            Cubers|       20|\n",
      "|          yeee_bot|              ye fam|               0| 1506816000|     0|    2|         teenagers|        2|\n",
      "|         grrrrreat|143417804| &gt; U...|               0| 1506816000|     0|    1|       4chan4trump|       18|\n",
      "|         psych4191|That is some chic...|               0| 1506816000|     0|    2|               CFB|       10|\n",
      "|       fishboy2000|Does he even know...|               0| 1506816000|     0|    1|        rugbyunion|        6|\n",
      "|  raspberryseltzer|            Tequila.|               0| 1506816000|     0|    2|               CFB|        1|\n",
      "|           Atherix|your heart beats ...|               0| 1506816000|     0|    1|         EchoArena|       55|\n",
      "|            Selash|&gt; Subscribe: /...|               0| 1506816000|     0|    1|               HFY|        3|\n",
      "|    GonadusTwistus|you're really ign...|               0| 1506816000|     0|    2|        The_Donald|       11|\n",
      "|ithinkisaidtoomuch|lets see how deep...|               0| 1506816000|     0|    1|        CrazyIdeas|        8|\n",
      "|           Brgisme|You are arguing t...|               0| 1506816000|     0|    2|             NBA2k|       34|\n",
      "|      phasedarrray|I'm thinking abou...|               0| 1506816000|     0|    2|           opiates|       13|\n",
      "|   ImagesOfNetwork|[Original post](h...|               0| 1506816000|     0|    1|ImagesOfNewZealand|       52|\n",
      "|          calxllum|I think that's a ...|               0| 1506816000|     0|    3|          totalwar|      188|\n",
      "|           Aner123|Harp absolutelly....|               0| 1506816000|     0|    1|      tvcrossovers|       50|\n",
      "+------------------+--------------------+----------------+-----------+------+-----+------------------+---------+\n",
      "only showing top 20 rows\n",
      "\n",
      "+---------+-----+\n",
      "|wordCount|count|\n",
      "+---------+-----+\n",
      "|        1|    9|\n",
      "|        8|    6|\n",
      "|        9|    6|\n",
      "|       11|    5|\n",
      "|        4|    3|\n",
      "|        6|    3|\n",
      "|       13|    3|\n",
      "|       10|    3|\n",
      "|        3|    3|\n",
      "|        7|    3|\n",
      "+---------+-----+\n",
      "only showing top 10 rows\n",
      "\n",
      "Time elapsed:  19.048326823860407\n"
     ]
    }
   ],
   "source": [
    "start_time = timeit.default_timer()\n",
    "\n",
    "df = df.withColumn('wordCount', f.size(f.split(f.col('body'), ' ')))\n",
    "df.show()\n",
    "\n",
    "df.groupBy('wordCount').count().sort(\"count\", ascending = False).show(10)   \n",
    "\n",
    "\n",
    "\n",
    "print(\"Time elapsed: \",elapsed)"
   ]
  },
  {
   "cell_type": "code",
   "execution_count": 6,
   "metadata": {},
   "outputs": [
    {
     "name": "stdout",
     "output_type": "stream",
     "text": [
      "Average wordcount in comment:  29.71  words.\n",
      "Time elapsed:  19.048326823860407\n"
     ]
    }
   ],
   "source": [
    "start_time = timeit.default_timer()\n",
    "\n",
    "df_stats = df.select(f.mean(f.col('wordCount')).alias('mean')).collect()  #\n",
    "\n",
    "mean = df_stats[0]['mean']\n",
    "\n",
    "print(\"Average wordcount in comment: \", mean, \" words.\")\n",
    "\n",
    "print(\"Time elapsed: \",elapsed)"
   ]
  },
  {
   "cell_type": "code",
   "execution_count": 7,
   "metadata": {},
   "outputs": [
    {
     "name": "stdout",
     "output_type": "stream",
     "text": [
      "+-----------------+-----+\n",
      "|extracted_country|count|\n",
      "+-----------------+-----+\n",
      "|                 |  100|\n",
      "+-----------------+-----+\n",
      "\n",
      "Time elapsed:  19.048326823860407\n"
     ]
    }
   ],
   "source": []
  },
  {
   "cell_type": "code",
   "execution_count": null,
   "metadata": {},
   "outputs": [],
   "source": []
  },
  {
   "cell_type": "code",
   "execution_count": null,
   "metadata": {},
   "outputs": [],
   "source": []
  }
 ],
 "metadata": {
  "kernelspec": {
   "display_name": "Python 3",
   "language": "python",
   "name": "python3"
  },
  "language_info": {
   "codemirror_mode": {
    "name": "ipython",
    "version": 3
   },
   "file_extension": ".py",
   "mimetype": "text/x-python",
   "name": "python",
   "nbconvert_exporter": "python",
   "pygments_lexer": "ipython3",
   "version": "3.6.9"
  }
 },
 "nbformat": 4,
 "nbformat_minor": 2
}
