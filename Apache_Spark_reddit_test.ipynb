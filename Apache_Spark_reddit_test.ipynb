{
 "cells": [
  {
   "cell_type": "code",
   "execution_count": 109,
   "metadata": {},
   "outputs": [],
   "source": [
    "from pyspark.sql import SparkSession, SQLContext \n",
    "from pyspark.sql.functions import lower\n",
    "import pyspark.sql.functions as sf ##TESTING\n",
    "from operator import add\n",
    "import re\n",
    "from collections import OrderedDict\n",
    "from operator import itemgetter \n",
    "import itertools\n",
    "import json\n",
    "\n",
    "\n",
    "\n",
    "\n",
    "spark_session = SparkSession\\\n",
    "        .builder\\\n",
    "        .master(\"spark://192.168.2.87:7077\") \\\n",
    "        .appName(\"blameyben_lecture1_simple_example\")\\\n",
    "        .config(\"spark.dynamicAllocation.enabled\", True)\\\n",
    "        .config(\"spark.shuffle.service.enabled\", True)\\\n",
    "        .config(\"spark.dynamicAllocation.executorIdleTimeout\",\"30s\")\\\n",
    "        .config(\"spark.executor.cores\",4)\\\n",
    "        .getOrCreate()\n",
    "\n",
    "spark_context = spark_session.sparkContext #added\n",
    "sqlContext = SQLContext(spark_context)\n",
    "\n"
   ]
  },
  {
   "cell_type": "code",
   "execution_count": 110,
   "metadata": {},
   "outputs": [
    {
     "name": "stdout",
     "output_type": "stream",
     "text": [
      "++\n",
      "||\n",
      "++\n",
      "++\n",
      "\n",
      "0\n"
     ]
    }
   ],
   "source": [
    "from pyspark.sql.types import *\n",
    "schema = StructType([])\n",
    "\n",
    "#df = sqlContext.createDataFrame(spark_context.emptyRDD(), schema)\n",
    "\n",
    "df.show()\n",
    "\n",
    "print(df.count())\n",
    "\n",
    "\n"
   ]
  },
  {
   "cell_type": "code",
   "execution_count": null,
   "metadata": {},
   "outputs": [
    {
     "name": "stdout",
     "output_type": "stream",
     "text": [
      "count = 0\n"
     ]
    }
   ],
   "source": [
    "file = open('testfiles/sample_data.json')\n",
    "#file = open('testfiles/sample_data-Copy1.json')\n",
    "content = file.read()\n",
    "array = content.split('\\n')\n",
    "\n",
    "file.close()\n",
    "array.pop();\n",
    "    \n",
    "#subreddit_array = [\"Cubers\", \"mildlyinteresting\",\"4chan4trump\", \"The_Donald\"]\n",
    "\n",
    "df = sqlContext.createDataFrame(spark_context.emptyRDD(), schema)\n",
    "\n",
    "for comment in array:\n",
    "    \n",
    "    rddjson = spark_context.parallelize([comment])\n",
    "    \n",
    "    current_df = sqlContext.read.json(rddjson)\n",
    "    \n",
    "    count = df.count()\n",
    "\n",
    "    if count == 0:\n",
    "        df = current_df\n",
    "        print(\"count = 0\")\n",
    "    else:\n",
    "        df = df.union(current_df)\n",
    "\n",
    "        #print(count)\n",
    "    \n",
    "\n",
    "    \n",
    "\n",
    "#df.show()\n",
    "df.show()\n",
    "\n",
    "    \n",
    "    #if python_data[\"subreddit\"] in subreddit_array:\n",
    "    #    print(python_data[\"body\"])\n",
    "    \n",
    "    #rdd = spark_context.parallelize(python_data)  ???\n",
    "    #rdd.take(10)\n",
    "    "
   ]
  },
  {
   "cell_type": "code",
   "execution_count": 95,
   "metadata": {},
   "outputs": [
    {
     "ename": "AttributeError",
     "evalue": "'property' object has no attribute 'json'",
     "output_type": "error",
     "traceback": [
      "\u001b[0;31m---------------------------------------------------------------------------\u001b[0m",
      "\u001b[0;31mAttributeError\u001b[0m                            Traceback (most recent call last)",
      "\u001b[0;32m<ipython-input-95-58dbebc80a75>\u001b[0m in \u001b[0;36m<module>\u001b[0;34m()\u001b[0m\n\u001b[0;32m----> 1\u001b[0;31m \u001b[0mjdf\u001b[0m \u001b[0;34m=\u001b[0m \u001b[0mSparkSession\u001b[0m\u001b[0;34m.\u001b[0m\u001b[0mread\u001b[0m\u001b[0;34m.\u001b[0m\u001b[0mjson\u001b[0m\u001b[0;34m(\u001b[0m\u001b[0;34m'testfiles/sample_data-Copy1.json'\u001b[0m\u001b[0;34m)\u001b[0m\u001b[0;34m\u001b[0m\u001b[0;34m\u001b[0m\u001b[0m\n\u001b[0m",
      "\u001b[0;31mAttributeError\u001b[0m: 'property' object has no attribute 'json'"
     ]
    }
   ],
   "source": [
    "jdf = SparkSession.read.json('testfiles/sample_data-Copy1.json')"
   ]
  },
  {
   "cell_type": "code",
   "execution_count": null,
   "metadata": {},
   "outputs": [],
   "source": []
  }
 ],
 "metadata": {
  "kernelspec": {
   "display_name": "Python 3",
   "language": "python",
   "name": "python3"
  },
  "language_info": {
   "codemirror_mode": {
    "name": "ipython",
    "version": 3
   },
   "file_extension": ".py",
   "mimetype": "text/x-python",
   "name": "python",
   "nbconvert_exporter": "python",
   "pygments_lexer": "ipython3",
   "version": "3.6.9"
  }
 },
 "nbformat": 4,
 "nbformat_minor": 2
}
