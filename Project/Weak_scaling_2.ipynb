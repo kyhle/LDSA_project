{
 "cells": [
  {
   "cell_type": "code",
   "execution_count": 1,
   "metadata": {},
   "outputs": [],
   "source": [
    "# Weak scaling test 2 \n",
    "# 2 nodes\n",
    "# 18 GB of data\n",    
    "from pyspark.sql import SparkSession\n",
    "from functools import reduce\n",
    "import json\n",
    "import timeit\n",
    "import pyspark.sql.functions as f \n",
    "\n",
    "spark_session = SparkSession\\\n",
    "        .builder\\\n",
    "        .master(\"spark://192.168.2.225:7077\") \\\n",
    "        .appName(\"2json\")\\\n",
    "        .config(\"spark.dynamicAllocation.enabled\", True)\\\n",
    "        .config(\"spark.shuffle.service.enabled\", True)\\\n",
    "        .config(\"spark.dynamicAllocation.executorIdleTimeout\",\"30s\")\\\n",
    "        .config(\"spark.cores.max\",2)\\\n",
    "        .getOrCreate()"
   ]
  },
  {
   "cell_type": "code",
   "execution_count": 2,
   "metadata": {},
   "outputs": [
    {
     "name": "stdout",
     "output_type": "stream",
     "text": [
      "Time elapsed:  395.44475176697597 s\n",
      "CPU times: user 92 ms, sys: 32.8 ms, total: 125 ms\n",
      "Wall time: 6min 35s\n"
     ]
    }
   ],
   "source": [
    "%%time\n",
    "start_time_0 = timeit.default_timer()\n",
    "\n",
    "reddit = \"hdfs://192.168.2.225:9000/reddit/\"\n",
    "range = [reddit + \"RC_2012-01\", reddit + \"RC_2012-02\"]\n",
    "dataframes = map(lambda r: spark_session.read.json(r), range)\n",
    "df = reduce(lambda df1, df2: df1.unionAll(df2), dataframes)\n",
    "\n",
    "elapsed_0 = timeit.default_timer() - start_time_0\n",
    "\n",
    "\n",
    "\n",
    "print(\"Time elapsed: \", elapsed_0, \"s\")"
   ]
  },
  {
   "cell_type": "code",
   "execution_count": 3,
   "metadata": {},
   "outputs": [
    {
     "data": {
      "text/plain": [
       "32365900"
      ]
     },
     "execution_count": 3,
     "metadata": {},
     "output_type": "execute_result"
    }
   ],
   "source": [
    "df.count()"
   ]
  },
  {
   "cell_type": "code",
   "execution_count": 4,
   "metadata": {},
   "outputs": [
    {
     "name": "stdout",
     "output_type": "stream",
     "text": [
      "Time elapsed:  0.4420865389984101 s\n",
      "CPU times: user 9.27 ms, sys: 1.81 ms, total: 11.1 ms\n",
      "Wall time: 442 ms\n"
     ]
    }
   ],
   "source": [
    "%%time\n",
    "initial_start_time = timeit.default_timer()\n",
    "\n",
    "if 'author_cakeday' in df.columns:\n",
    "        current_df = df.drop('author_cakeday')\n",
    "        \n",
    "df = df.drop('author_flair_css_class','author_flair_text','can_gild','distinguished','edited','id','is_submitter','link_id','parent_id','permalink','retrieved_on','stickied','subreddit_id')\n",
    "\n",
    "df = df.filter((df.body != '[deleted]'))\n",
    "\n",
    "\n",
    "elapsed = timeit.default_timer() - initial_start_time\n",
    "\n",
    "\n",
    "\n",
    "print(\"Time elapsed: \", elapsed, \"s\")"
   ]
  },
  {
   "cell_type": "code",
   "execution_count": 5,
   "metadata": {},
   "outputs": [
    {
     "name": "stdout",
     "output_type": "stream",
     "text": [
      "+-------------------+-------+\n",
      "|          subreddit|  count|\n",
      "+-------------------+-------+\n",
      "|          AskReddit|3886207|\n",
      "|              funny|1595579|\n",
      "|               pics|1285955|\n",
      "|            atheism| 958994|\n",
      "|             gaming| 958909|\n",
      "|           politics| 820115|\n",
      "|                WTF| 793585|\n",
      "|fffffffuuuuuuuuuuuu| 631135|\n",
      "|              trees| 616926|\n",
      "|               IAmA| 579836|\n",
      "+-------------------+-------+\n",
      "only showing top 10 rows\n",
      "\n",
      "Time elapsed:  259.65715837001335 s\n",
      "CPU times: user 67.4 ms, sys: 22 ms, total: 89.4 ms\n",
      "Wall time: 4min 19s\n"
     ]
    }
   ],
   "source": [
    "%%time\n",
    "start_time_1 = timeit.default_timer()\n",
    "\n",
    "#df.select(\"author\").show()\n",
    "df.groupBy('subreddit').count().sort(\"count\", ascending = False).show(10)\n",
    "\n",
    "elapsed_1 = timeit.default_timer() - start_time_1\n",
    "\n",
    "print(\"Time elapsed: \", elapsed_1,\"s\")"
   ]
  },
  {
   "cell_type": "code",
   "execution_count": 6,
   "metadata": {},
   "outputs": [
    {
     "name": "stdout",
     "output_type": "stream",
     "text": [
      "+---------+-------+\n",
      "|wordCount|  count|\n",
      "+---------+-------+\n",
      "|        5|1176365|\n",
      "|        6|1171644|\n",
      "|        4|1135693|\n",
      "|        7|1126744|\n",
      "|        8|1072298|\n",
      "|        1|1040225|\n",
      "|        3|1037198|\n",
      "|        9|1007129|\n",
      "|       10| 945233|\n",
      "|        2| 929350|\n",
      "+---------+-------+\n",
      "only showing top 10 rows\n",
      "\n",
      "Time elapsed:  352.0260755979689 s\n",
      "CPU times: user 82.1 ms, sys: 32.8 ms, total: 115 ms\n",
      "Wall time: 5min 52s\n"
     ]
    }
   ],
   "source": [
    "%%time\n",
    "start_time_2 = timeit.default_timer()\n",
    "\n",
    "df = df.withColumn('wordCount', f.size(f.split(f.col('body'), ' ')))\n",
    "#df.show()\n",
    "\n",
    "df.groupBy('wordCount').count().sort(\"count\", ascending = False).show(10)   \n",
    "\n",
    "elapsed_2 = timeit.default_timer() - start_time_2\n",
    "\n",
    "\n",
    "print(\"Time elapsed: \", elapsed_2,\"s\")"
   ]
  },
  {
   "cell_type": "code",
   "execution_count": 7,
   "metadata": {},
   "outputs": [
    {
     "name": "stdout",
     "output_type": "stream",
     "text": [
      "Average wordcount in comment:  32.29938768372247  words.\n",
      "Time elapsed:  346.1760686310008 s\n",
      "CPU times: user 92.8 ms, sys: 26.8 ms, total: 120 ms\n",
      "Wall time: 5min 46s\n"
     ]
    }
   ],
   "source": [
    "%%time\n",
    "start_time_3 = timeit.default_timer()\n",
    "\n",
    "df_stats = df.select(f.mean(f.col('wordCount')).alias('mean')).collect()  #\n",
    "\n",
    "mean = df_stats[0]['mean']\n",
    "\n",
    "print(\"Average wordcount in comment: \", mean, \" words.\")\n",
    "\n",
    "\n",
    "elapsed_3 = timeit.default_timer() - start_time_3\n",
    "print(\"Time elapsed: \", elapsed_3,\"s\")"
   ]
  },
  {
   "cell_type": "code",
   "execution_count": 8,
   "metadata": {},
   "outputs": [
    {
     "name": "stdout",
     "output_type": "stream",
     "text": [
      "Total time elapsed:  958.3736905029509 s\n"
     ]
    }
   ],
   "source": [
    "total_elapsed = timeit.default_timer() - initial_start_time\n",
    "\n",
    "print(\"Total time elapsed: \", total_elapsed, \"s\")"
   ]
  },
  {
   "cell_type": "code",
   "execution_count": 9,
   "metadata": {},
   "outputs": [],
   "source": [
    "spark_session.stop()"
   ]
  }
 ],
 "metadata": {
  "kernelspec": {
   "display_name": "Python 3",
   "language": "python",
   "name": "python3"
  },
  "language_info": {
   "codemirror_mode": {
    "name": "ipython",
    "version": 3
   },
   "file_extension": ".py",
   "mimetype": "text/x-python",
   "name": "python",
   "nbconvert_exporter": "python",
   "pygments_lexer": "ipython3",
   "version": "3.6.9"
  }
 },
 "nbformat": 4,
 "nbformat_minor": 2
}
