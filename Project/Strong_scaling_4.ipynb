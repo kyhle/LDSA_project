{
 "cells": [
  {
   "cell_type": "code",
   "execution_count": 1,
   "metadata": {},
   "outputs": [],
   "source": [
    "# Strong scaling test 4\n",
    "# 4 nodes\n",
    "# 9 GB of data\n",
    "from pyspark.sql import SparkSession, SQLContext \n",
    "#from pyspark.sql.functions import lower\n",
    "#from operator import add\n",
    "#import re\n",
    "#from collections import OrderedDict\n",
    "#from operator import itemgetter \n",
    "#import itertools\n",
    "import json\n",
    "import timeit\n",
    "#from pyspark.sql.types import *\n",
    "#schema = StructType([])\n",
    "\n",
    "import pyspark.sql.functions as f \n",
    "\n",
    "spark_session = SparkSession\\\n",
    "        .builder\\\n",
    "        .master(\"spark://192.168.2.225:7077\") \\\n",
    "        .appName(\"Strong_scaling_4\")\\\n",
    "        .config(\"spark.dynamicAllocation.enabled\", True)\\\n",
    "        .config(\"spark.shuffle.service.enabled\", True)\\\n",
    "        .config(\"spark.dynamicAllocation.executorIdleTimeout\",\"30s\")\\\n",
    "        .config(\"spark.cores.max\",4)\\\n",
    "        .getOrCreate()\n",
    "\n",
    "        #        .config(\"spark.executor.cores\",1)\\\n",
    "\n",
    "#spark_context = spark_session.sparkContext #added\n",
    "#sqlContext = SQLContext(spark_context)"
   ]
  },
  {
   "cell_type": "code",
   "execution_count": 2,
   "metadata": {},
   "outputs": [],
   "source": [
    "df = spark_session.read.json('hdfs://192.168.2.225:9000/reddit/RC_2012-02')"
   ]
  },
  {
   "cell_type": "code",
   "execution_count": 3,
   "metadata": {},
   "outputs": [
    {
     "data": {
      "text/plain": [
       "16015695"
      ]
     },
     "execution_count": 3,
     "metadata": {},
     "output_type": "execute_result"
    }
   ],
   "source": [
    "df.count()"
   ]
  },
  {
   "cell_type": "code",
   "execution_count": 4,
   "metadata": {},
   "outputs": [
    {
     "name": "stdout",
     "output_type": "stream",
     "text": [
      "Time elapsed:  0.28235390898771584 s\n"
     ]
    }
   ],
   "source": [
    "initial_start_time = timeit.default_timer()\n",
    "\n",
    "\n",
    "if 'author_cakeday' in df.columns:\n",
    "        current_df = df.drop('author_cakeday')\n",
    "        \n",
    "df = df.drop('author_flair_css_class','author_flair_text','can_gild','distinguished','edited','id','is_submitter','link_id','parent_id','permalink','retrieved_on','stickied','subreddit_id')\n",
    "\n",
    "df = df.filter((df.body != '[deleted]'))\n",
    "\n",
    "\n",
    "elapsed = timeit.default_timer() - initial_start_time\n",
    "\n",
    "\n",
    "\n",
    "print(\"Time elapsed: \", elapsed, \"s\")"
   ]
  },
  {
   "cell_type": "code",
   "execution_count": 5,
   "metadata": {},
   "outputs": [
    {
     "name": "stdout",
     "output_type": "stream",
     "text": [
      "+-------------------+-------+\n",
      "|          subreddit|  count|\n",
      "+-------------------+-------+\n",
      "|          AskReddit|1974313|\n",
      "|              funny| 767566|\n",
      "|               pics| 601277|\n",
      "|            atheism| 482672|\n",
      "|             gaming| 477368|\n",
      "|                WTF| 391188|\n",
      "|           politics| 363712|\n",
      "|              trees| 296983|\n",
      "|fffffffuuuuuuuuuuuu| 294680|\n",
      "|               IAmA| 267945|\n",
      "+-------------------+-------+\n",
      "only showing top 10 rows\n",
      "\n",
      "Time elapsed:  69.24988216301426 s\n",
      "CPU times: user 21.4 ms, sys: 8.96 ms, total: 30.4 ms\n",
      "Wall time: 1min 9s\n"
     ]
    }
   ],
   "source": [
    "%%time\n",
    "start_time_1 = timeit.default_timer()\n",
    "\n",
    "#df.select(\"author\").show()\n",
    "df.groupBy('subreddit').count().sort(\"count\", ascending = False).show(10)\n",
    "\n",
    "elapsed_1 = timeit.default_timer() - start_time_1\n",
    "\n",
    "print(\"Time elapsed: \",elapsed_1, \"s\")"
   ]
  },
  {
   "cell_type": "code",
   "execution_count": 6,
   "metadata": {},
   "outputs": [
    {
     "name": "stdout",
     "output_type": "stream",
     "text": [
      "+---------+------+\n",
      "|wordCount| count|\n",
      "+---------+------+\n",
      "|        5|578020|\n",
      "|        6|576405|\n",
      "|        4|557292|\n",
      "|        7|554545|\n",
      "|        8|527944|\n",
      "|        1|509309|\n",
      "|        3|508649|\n",
      "|        9|495282|\n",
      "|       10|465635|\n",
      "|        2|454971|\n",
      "+---------+------+\n",
      "only showing top 10 rows\n",
      "\n",
      "Time elapsed:  93.40355832490604 s\n",
      "CPU times: user 26.7 ms, sys: 11.9 ms, total: 38.5 ms\n",
      "Wall time: 1min 33s\n"
     ]
    }
   ],
   "source": [
    "%%time\n",
    "start_time_2 = timeit.default_timer()\n",
    "\n",
    "df = df.withColumn('wordCount', f.size(f.split(f.col('body'), ' ')))\n",
    "#df.show()\n",
    "\n",
    "df.groupBy('wordCount').count().sort(\"count\", ascending = False).show(10)   \n",
    "\n",
    "elapsed_2 = timeit.default_timer() - start_time_2\n",
    "\n",
    "\n",
    "print(\"Time elapsed: \", elapsed_2, \"s\")"
   ]
  },
  {
   "cell_type": "code",
   "execution_count": 7,
   "metadata": {},
   "outputs": [
    {
     "name": "stdout",
     "output_type": "stream",
     "text": [
      "Average wordcount in comment:  32.56660286612964  words.\n",
      "Time elapsed:  87.86540937901009 s\n",
      "CPU times: user 27.9 ms, sys: 16.4 ms, total: 44.3 ms\n",
      "Wall time: 1min 27s\n"
     ]
    }
   ],
   "source": [
    "%%time\n",
    "start_time_3 = timeit.default_timer()\n",
    "\n",
    "df_stats = df.select(f.mean(f.col('wordCount')).alias('mean')).collect()  #\n",
    "\n",
    "mean = df_stats[0]['mean']\n",
    "\n",
    "print(\"Average wordcount in comment: \", mean, \" words.\")\n",
    "\n",
    "\n",
    "elapsed_3 = timeit.default_timer() - start_time_3\n",
    "print(\"Time elapsed: \", elapsed_3, \"s\")"
   ]
  },
  {
   "cell_type": "code",
   "execution_count": 8,
   "metadata": {},
   "outputs": [
    {
     "name": "stdout",
     "output_type": "stream",
     "text": [
      "Total time elapsed:  250.8621460449649 s\n"
     ]
    }
   ],
   "source": [
    "total_elapsed = timeit.default_timer() - initial_start_time\n",
    "\n",
    "print(\"Total time elapsed: \", total_elapsed, \"s\")"
   ]
  },
  {
   "cell_type": "code",
   "execution_count": 9,
   "metadata": {},
   "outputs": [],
   "source": [
    "spark_session.stop()"
   ]
  }
 ],
 "metadata": {
  "kernelspec": {
   "display_name": "Python 3",
   "language": "python",
   "name": "python3"
  },
  "language_info": {
   "codemirror_mode": {
    "name": "ipython",
    "version": 3
   },
   "file_extension": ".py",
   "mimetype": "text/x-python",
   "name": "python",
   "nbconvert_exporter": "python",
   "pygments_lexer": "ipython3",
   "version": "3.6.9"
  }
 },
 "nbformat": 4,
 "nbformat_minor": 2
}
