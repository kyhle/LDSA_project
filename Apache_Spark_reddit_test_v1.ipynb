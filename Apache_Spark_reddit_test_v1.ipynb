{
 "cells": [
  {
   "cell_type": "code",
   "execution_count": 7,
   "metadata": {},
   "outputs": [],
   "source": [
    "from pyspark.sql import SparkSession, SQLContext \n",
    "from pyspark.sql.functions import lower\n",
    "import pyspark.sql.functions as sf ##TESTING\n",
    "from operator import add\n",
    "import re\n",
    "from collections import OrderedDict\n",
    "from operator import itemgetter \n",
    "import itertools\n",
    "import json\n",
    "\n",
    "import pyspark.sql.functions as f  #TA BORT\n",
    "\n",
    "\n",
    "\n",
    "\n",
    "spark_session = SparkSession\\\n",
    "        .builder\\\n",
    "        .master(\"spark://192.168.2.87:7077\") \\\n",
    "        .appName(\"blameyben_lecture1_simple_example\")\\\n",
    "        .config(\"spark.dynamicAllocation.enabled\", True)\\\n",
    "        .config(\"spark.shuffle.service.enabled\", True)\\\n",
    "        .config(\"spark.dynamicAllocation.executorIdleTimeout\",\"30s\")\\\n",
    "        .config(\"spark.executor.cores\",4)\\\n",
    "        .getOrCreate()\n",
    "\n",
    "spark_context = spark_session.sparkContext #added\n",
    "sqlContext = SQLContext(spark_context)\n",
    "\n"
   ]
  },
  {
   "cell_type": "code",
   "execution_count": 8,
   "metadata": {},
   "outputs": [],
   "source": [
    "from pyspark.sql.types import *\n",
    "schema = StructType([])\n",
    "\n",
    "\n"
   ]
  },
  {
   "cell_type": "code",
   "execution_count": 23,
   "metadata": {},
   "outputs": [
    {
     "name": "stdout",
     "output_type": "stream",
     "text": [
      "Time elapsed:  83.33103949110955\n"
     ]
    }
   ],
   "source": [
    "import timeit\n",
    "start_time = timeit.default_timer()\n",
    "\n",
    "\n",
    "\n",
    "\n",
    "#file = open('testfiles/sample_data.json')\n",
    "file = open('testfiles/sample_data-Copy1.json')\n",
    "\n",
    "content = file.read()\n",
    "array = content.split('\\n')\n",
    "\n",
    "file.close()\n",
    "    \n",
    "#subreddit_array = [\"Cubers\", \"mildlyinteresting\",\"4chan4trump\", \"The_Donald\"]\n",
    "\n",
    "df = sqlContext.createDataFrame(spark_context.emptyRDD(), schema)\n",
    "\n",
    "\n",
    "for comment in array:\n",
    "    \n",
    "    rddjson = spark_context.parallelize([comment])\n",
    "    \n",
    "    current_df = sqlContext.read.json(rddjson)\n",
    "       \n",
    "    columns_to_drop = ['author_cakeday','id', 'id_copy']\n",
    "\n",
    "    if 'author_cakeday' in current_df.columns:\n",
    "        current_df = current_df.drop('author_cakeday')\n",
    "        \n",
    "    current_df = current_df.drop('author_flair_css_class','author_flair_text','can_gild','distinguished','edited','id','is_submitter','link_id','parent_id','permalink','retrieved_on','stickied','subreddit_id')\n",
    "  \n",
    "    count = df.count()\n",
    "    \n",
    "\n",
    "\n",
    "    if count == 0:\n",
    "        df = current_df\n",
    "    else:\n",
    "        df = df.union(current_df)\n",
    "\n",
    "\n",
    "elapsed = timeit.default_timer() - start_time\n",
    "\n",
    "#df.show()\n",
    "\n",
    "print(\"Time elapsed: \",elapsed) \n",
    "    "
   ]
  },
  {
   "cell_type": "code",
   "execution_count": 24,
   "metadata": {
    "scrolled": false
   },
   "outputs": [
    {
     "name": "stdout",
     "output_type": "stream",
     "text": [
      "+------------------+-----+\n",
      "|         subreddit|count|\n",
      "+------------------+-----+\n",
      "|               CFB|    3|\n",
      "|           xboxone|    1|\n",
      "|  learnprogramming|    1|\n",
      "|         2007scape|    1|\n",
      "|               HFY|    1|\n",
      "|ImagesOfNewZealand|    1|\n",
      "|   fantasyfootball|    1|\n",
      "|          gonewild|    1|\n",
      "|          Roughsex|    1|\n",
      "|      tvcrossovers|    1|\n",
      "+------------------+-----+\n",
      "only showing top 10 rows\n",
      "\n",
      "Time elapsed:  3.9419189877808094\n"
     ]
    }
   ],
   "source": [
    "start_time = timeit.default_timer()\n",
    "\n",
    "#df.select(\"author\").show()\n",
    "df.groupBy('subreddit').count().sort(\"count\", ascending = False).show(10)\n",
    "\n",
    "elapsed = timeit.default_timer() - start_time\n",
    "\n",
    "print(\"Time elapsed: \",elapsed)"
   ]
  },
  {
   "cell_type": "code",
   "execution_count": null,
   "metadata": {},
   "outputs": [],
   "source": []
  },
  {
   "cell_type": "code",
   "execution_count": null,
   "metadata": {},
   "outputs": [],
   "source": []
  }
 ],
 "metadata": {
  "kernelspec": {
   "display_name": "Python 3",
   "language": "python",
   "name": "python3"
  },
  "language_info": {
   "codemirror_mode": {
    "name": "ipython",
    "version": 3
   },
   "file_extension": ".py",
   "mimetype": "text/x-python",
   "name": "python",
   "nbconvert_exporter": "python",
   "pygments_lexer": "ipython3",
   "version": "3.6.9"
  }
 },
 "nbformat": 4,
 "nbformat_minor": 2
}
